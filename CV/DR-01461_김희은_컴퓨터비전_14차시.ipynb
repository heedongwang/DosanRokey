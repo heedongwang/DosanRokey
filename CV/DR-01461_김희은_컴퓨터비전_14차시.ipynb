{
  "cells": [
    {
      "cell_type": "markdown",
      "source": [
        "#문제"
      ],
      "metadata": {
        "id": "CBwMjmqXEb16"
      }
    },
    {
      "cell_type": "markdown",
      "source": [
        "$w_{1} = 0.2$,  $w_{2}= 0.2$일 때 임계값 theta 또는 bias를 정하고 아래의 함수를 완성하시오.\n",
        "- 스칼라 연산\n",
        "  - 임계값 theta를 사용하여 or, and, nor, nand, xor를 구함\n",
        "  - bias 사용하여 or, and, nor, nand, xor를 구함\n",
        "- 벡터 연산\n",
        "  - 넘파이 np.sum을 사용하여 or, and, nor, nand, xor를 구함"
      ],
      "metadata": {
        "id": "SNkknlU6Houc"
      }
    },
    {
      "cell_type": "markdown",
      "source": [
        "#SCALAR 연산"
      ],
      "metadata": {
        "id": "97Ksskx2E6uh"
      }
    },
    {
      "cell_type": "markdown",
      "source": [
        "## 임계값 theta로 구현\n",
        "\n"
      ],
      "metadata": {
        "id": "bEwJjIshRw16"
      }
    },
    {
      "cell_type": "markdown",
      "source": [
        "$$\n",
        " y=\n",
        "\\begin{cases}\n",
        "0&(w_{1} x_{1} + w_{2} x_{2} \\leq {\\theta})\\\\\n",
        "1&(w_{1} x_{1} + w_{2} x_{2} > {\\theta})\n",
        "\\end{cases}\n",
        "$$"
      ],
      "metadata": {
        "id": "h5yTo5ObQPTg"
      }
    },
    {
      "cell_type": "markdown",
      "source": [
        "### or 함수"
      ],
      "metadata": {
        "id": "ylbSFpFNILA-"
      }
    },
    {
      "cell_type": "code",
      "source": [
        "def OR(x1, x2):\n",
        "    w1, w2, theta = 0.2, 0.2, 0.1       # or\n",
        "    tmp = x1 * w1 + x2 * w2\n",
        "    if tmp <= theta:\n",
        "        return 0\n",
        "    elif tmp > theta:\n",
        "        return 1\n",
        "\n",
        "if __name__ == '__main__':\n",
        "    for xs in [(0, 0), (1, 0), (0, 1), (1, 1)]:\n",
        "        y = OR(xs[0], xs[1])\n",
        "        print(str(xs) + \" -> \" + str(y))"
      ],
      "metadata": {
        "colab": {
          "base_uri": "https://localhost:8080/"
        },
        "id": "X0JibPFcTPPq",
        "outputId": "2047d928-5d69-4371-d294-4182eb326b03"
      },
      "execution_count": 1,
      "outputs": [
        {
          "output_type": "stream",
          "name": "stdout",
          "text": [
            "(0, 0) -> 0\n",
            "(1, 0) -> 1\n",
            "(0, 1) -> 1\n",
            "(1, 1) -> 1\n"
          ]
        }
      ]
    },
    {
      "cell_type": "markdown",
      "source": [
        "### and 함수"
      ],
      "metadata": {
        "id": "uEZNwJhEIQjm"
      }
    },
    {
      "cell_type": "markdown",
      "source": [
        "위 OR 카피 후에 theta 변경 구현"
      ],
      "metadata": {
        "id": "OwRCK_1pXonl"
      }
    },
    {
      "cell_type": "code",
      "source": [
        "def AND(x1, x2):\n",
        "    w1, w2, theta = 0.2, 0.2, 0.2       # and\n",
        "    tmp = x1 * w1 + x2 * w2\n",
        "    if tmp <= theta:\n",
        "        return 0\n",
        "    elif tmp > theta:\n",
        "        return 1\n",
        "\n",
        "if __name__ == '__main__':\n",
        "    for xs in [(0, 0), (1, 0), (0, 1), (1, 1)]:\n",
        "        y = AND(xs[0], xs[1])\n",
        "        print(str(xs) + \" -> \" + str(y))"
      ],
      "metadata": {
        "id": "H_RuivjqZdz1",
        "outputId": "c1d42b00-5ce0-435a-cb46-032815fb437b",
        "colab": {
          "base_uri": "https://localhost:8080/"
        }
      },
      "execution_count": 2,
      "outputs": [
        {
          "output_type": "stream",
          "name": "stdout",
          "text": [
            "(0, 0) -> 0\n",
            "(1, 0) -> 0\n",
            "(0, 1) -> 0\n",
            "(1, 1) -> 1\n"
          ]
        }
      ]
    },
    {
      "cell_type": "markdown",
      "source": [
        "### nor 함수"
      ],
      "metadata": {
        "id": "fdMCQvvzIT7z"
      }
    },
    {
      "cell_type": "code",
      "source": [
        "def NOR(x1, x2):\n",
        "    w1, w2, theta = 0.2, 0.2,  0.1      # or\n",
        "    tmp = x1 * w1 + x2 * w2\n",
        "    if tmp <= theta:\n",
        "        return 1\n",
        "    elif tmp > theta:\n",
        "        return 0\n",
        "\n",
        "if __name__ == '__main__':\n",
        "    for xs in [(0, 0), (1, 0), (0, 1), (1, 1)]:\n",
        "        y = NOR(xs[0], xs[1])\n",
        "        print(str(xs) + \" -> \" + str(y))"
      ],
      "metadata": {
        "id": "c0PVIKgDZett",
        "outputId": "9ce78751-4c14-44e6-cfe0-b256bd5ccd6f",
        "colab": {
          "base_uri": "https://localhost:8080/"
        }
      },
      "execution_count": 3,
      "outputs": [
        {
          "output_type": "stream",
          "name": "stdout",
          "text": [
            "(0, 0) -> 1\n",
            "(1, 0) -> 0\n",
            "(0, 1) -> 0\n",
            "(1, 1) -> 0\n"
          ]
        }
      ]
    },
    {
      "cell_type": "markdown",
      "source": [
        "### nand 함수"
      ],
      "metadata": {
        "id": "eO0AbYRlIW6H"
      }
    },
    {
      "cell_type": "code",
      "source": [
        "def NAND(x1, x2):\n",
        "    w1, w2, theta = 0.2, 0.2, 0.2       # or\n",
        "    tmp = x1 * w1 + x2 * w2\n",
        "    if tmp <= theta:\n",
        "        return 1\n",
        "    elif tmp > theta:\n",
        "        return 0\n",
        "\n",
        "if __name__ == '__main__':\n",
        "    for xs in [(0, 0), (1, 0), (0, 1), (1, 1)]:\n",
        "        y = NAND(xs[0], xs[1])\n",
        "        print(str(xs) + \" -> \" + str(y))"
      ],
      "metadata": {
        "id": "VWqtGzm5Zgqo",
        "outputId": "7af64ba9-46ee-40cf-ac68-64af295d9d85",
        "colab": {
          "base_uri": "https://localhost:8080/"
        }
      },
      "execution_count": 4,
      "outputs": [
        {
          "output_type": "stream",
          "name": "stdout",
          "text": [
            "(0, 0) -> 1\n",
            "(1, 0) -> 1\n",
            "(0, 1) -> 1\n",
            "(1, 1) -> 0\n"
          ]
        }
      ]
    },
    {
      "cell_type": "markdown",
      "source": [
        "### xor 함수"
      ],
      "metadata": {
        "id": "SedV67wWId5T"
      }
    },
    {
      "cell_type": "code",
      "source": [
        "def XOR(x1, x2):\n",
        "    s1 = NAND(x1, x2)\n",
        "    s2 = OR(x1, x2)\n",
        "\n",
        "    y = AND(s1, s2)\n",
        "    return y\n",
        "\n",
        "if __name__ == '__main__':\n",
        "    for xs in [(0, 0), (1, 0), (0, 1), (1, 1)]:\n",
        "        y = XOR(xs[0], xs[1])\n",
        "        print(str(xs) + \" -> \" + str(y))"
      ],
      "metadata": {
        "id": "aHsH8Gx0Zh-h",
        "outputId": "e0a06cfb-04d4-4ee7-e412-62425b83bac0",
        "colab": {
          "base_uri": "https://localhost:8080/"
        }
      },
      "execution_count": 5,
      "outputs": [
        {
          "output_type": "stream",
          "name": "stdout",
          "text": [
            "(0, 0) -> 0\n",
            "(1, 0) -> 1\n",
            "(0, 1) -> 1\n",
            "(1, 1) -> 0\n"
          ]
        }
      ]
    },
    {
      "cell_type": "markdown",
      "source": [
        "## 편향 b를 사용하여 구현\n",
        "\n"
      ],
      "metadata": {
        "id": "Vsidlt5dEV2K"
      }
    },
    {
      "cell_type": "markdown",
      "source": [
        "$$\n",
        " y=\n",
        "\\begin{cases}\n",
        "0&(b + w_{1} x_{1} + w_{2} x_{2} \\leq 0)\\\\\n",
        "1&(b + w_{1} x_{1} + w_{2} x_{2} > 0)\n",
        "\\end{cases}\n",
        "$$"
      ],
      "metadata": {
        "id": "wh3SlW1rXdQv"
      }
    },
    {
      "cell_type": "markdown",
      "source": [
        "### or 함수"
      ],
      "metadata": {
        "id": "rAKfBap-Ilzm"
      }
    },
    {
      "cell_type": "code",
      "source": [
        "def OR(x1, x2):\n",
        "    w1, w2, b = 0.2, 0.2, -0.1       # or\n",
        "    tmp = x1 * w1 + x2 * w2 + b\n",
        "    if tmp <= 0:\n",
        "        return 0\n",
        "    elif tmp > 0:\n",
        "        return 1\n",
        "\n",
        "if __name__ == '__main__':\n",
        "    for xs in [(0, 0), (1, 0), (0, 1), (1, 1)]:\n",
        "        y = OR(xs[0], xs[1])\n",
        "        print(str(xs) + \" -> \" + str(y))"
      ],
      "metadata": {
        "colab": {
          "base_uri": "https://localhost:8080/"
        },
        "outputId": "b6ea8bed-6bfe-4574-c728-a63ecf723146",
        "id": "sg3ul-kuQETy"
      },
      "execution_count": 6,
      "outputs": [
        {
          "output_type": "stream",
          "name": "stdout",
          "text": [
            "(0, 0) -> 0\n",
            "(1, 0) -> 1\n",
            "(0, 1) -> 1\n",
            "(1, 1) -> 1\n"
          ]
        }
      ]
    },
    {
      "cell_type": "markdown",
      "source": [
        "### and 함수"
      ],
      "metadata": {
        "id": "fPCE2IuMIlzn"
      }
    },
    {
      "cell_type": "markdown",
      "source": [
        "위 OR 카피 후에 b 변경 구현"
      ],
      "metadata": {
        "id": "aXAh-ApsX_bC"
      }
    },
    {
      "cell_type": "code",
      "source": [
        "def AND(x1, x2):\n",
        "    w1, w2, b = 0.2, 0.2, -0.3       # or\n",
        "    tmp = x1 * w1 + x2 * w2 + b\n",
        "    if tmp <= 0:\n",
        "        return 0\n",
        "    elif tmp > 0:\n",
        "        return 1\n",
        "\n",
        "if __name__ == '__main__':\n",
        "    for xs in [(0, 0), (1, 0), (0, 1), (1, 1)]:\n",
        "        y = AND(xs[0], xs[1])\n",
        "        print(str(xs) + \" -> \" + str(y))"
      ],
      "metadata": {
        "id": "oXlCxf0mZnlB",
        "outputId": "8991f738-a496-47a3-9551-73fbdee9110b",
        "colab": {
          "base_uri": "https://localhost:8080/"
        }
      },
      "execution_count": 24,
      "outputs": [
        {
          "output_type": "stream",
          "name": "stdout",
          "text": [
            "(0, 0) -> 0\n",
            "(1, 0) -> 0\n",
            "(0, 1) -> 0\n",
            "(1, 1) -> 1\n"
          ]
        }
      ]
    },
    {
      "cell_type": "markdown",
      "source": [
        "### nor 함수"
      ],
      "metadata": {
        "id": "z8iBP_shIlzo"
      }
    },
    {
      "cell_type": "code",
      "source": [
        "def NOR(x1, x2):\n",
        "    w1, w2, b = 0.2, 0.2, 0 # or\n",
        "    tmp = x1 * w1 + x2 * w2 + b\n",
        "    if tmp <= 0:\n",
        "        return 1\n",
        "    elif tmp > 0:\n",
        "        return 0\n",
        "\n",
        "if __name__ == '__main__':\n",
        "    for xs in [(0, 0), (1, 0), (0, 1), (1, 1)]:\n",
        "        y = NOR(xs[0], xs[1])\n",
        "        print(str(xs) + \" -> \" + str(y))"
      ],
      "metadata": {
        "id": "aj5Up9S5ZpHA",
        "outputId": "0ca76a8f-a42e-48d6-ff65-0837f62ebc6b",
        "colab": {
          "base_uri": "https://localhost:8080/"
        }
      },
      "execution_count": 58,
      "outputs": [
        {
          "output_type": "stream",
          "name": "stdout",
          "text": [
            "(0, 0) -> 1\n",
            "(1, 0) -> 0\n",
            "(0, 1) -> 0\n",
            "(1, 1) -> 0\n"
          ]
        }
      ]
    },
    {
      "cell_type": "markdown",
      "source": [
        "### nand 함수"
      ],
      "metadata": {
        "id": "lFz7V73xIlzo"
      }
    },
    {
      "cell_type": "code",
      "source": [
        "def NAND(x1, x2):\n",
        "    w1, w2, b = 0.2, 0.2,  -0.3   # or\n",
        "    tmp = x1 * w1 + x2 * w2 + b\n",
        "    if tmp <= 0:\n",
        "        return 1\n",
        "    elif tmp > 0:\n",
        "        return 0\n",
        "\n",
        "if __name__ == '__main__':\n",
        "    for xs in [(0, 0), (1, 0), (0, 1), (1, 1)]:\n",
        "        y = NAND(xs[0], xs[1])\n",
        "        print(str(xs) + \" -> \" + str(y))"
      ],
      "metadata": {
        "id": "dR-O66m5Zqf8",
        "outputId": "ebe2b419-1bcd-40d1-f957-518cd3804e47",
        "colab": {
          "base_uri": "https://localhost:8080/"
        }
      },
      "execution_count": 100,
      "outputs": [
        {
          "output_type": "stream",
          "name": "stdout",
          "text": [
            "(0, 0) -> 1\n",
            "(1, 0) -> 1\n",
            "(0, 1) -> 1\n",
            "(1, 1) -> 0\n"
          ]
        }
      ]
    },
    {
      "cell_type": "markdown",
      "source": [
        "### xor 함수"
      ],
      "metadata": {
        "id": "xECEekF_Ilzo"
      }
    },
    {
      "cell_type": "code",
      "source": [
        "def XOR(x1, x2):\n",
        "    s1 = NAND(x1, x2)\n",
        "    s2 = OR(x1, x2)\n",
        "\n",
        "    y = AND(s1, s2)\n",
        "    return y\n",
        "\n",
        "if __name__ == '__main__':\n",
        "    for xs in [(0, 0), (1, 0), (0, 1), (1, 1)]:\n",
        "        y = XOR(xs[0], xs[1])\n",
        "        print(str(xs) + \" -> \" + str(y))"
      ],
      "metadata": {
        "id": "PFvk3xWOZrpC",
        "outputId": "c2181c59-847f-40e7-ee1b-61a1c36303af",
        "colab": {
          "base_uri": "https://localhost:8080/"
        }
      },
      "execution_count": 10,
      "outputs": [
        {
          "output_type": "stream",
          "name": "stdout",
          "text": [
            "(0, 0) -> 0\n",
            "(1, 0) -> 0\n",
            "(0, 1) -> 0\n",
            "(1, 1) -> 0\n"
          ]
        }
      ]
    },
    {
      "cell_type": "markdown",
      "source": [
        "#Vector 연산"
      ],
      "metadata": {
        "id": "npATJo-TEsUh"
      }
    },
    {
      "cell_type": "markdown",
      "source": [
        "np.sum 사용"
      ],
      "metadata": {
        "id": "5zYNYvF5KNPZ"
      }
    },
    {
      "cell_type": "markdown",
      "source": [
        "### or 함수"
      ],
      "metadata": {
        "id": "_BZ2Kb3dInGY"
      }
    },
    {
      "cell_type": "code",
      "metadata": {
        "id": "bubXYt07rZaM",
        "colab": {
          "base_uri": "https://localhost:8080/"
        },
        "outputId": "72dbe400-9ac9-48d7-df83-4fa401226dde"
      },
      "source": [
        "import numpy as np\n",
        "\n",
        "def OR(x1, x2):\n",
        "    x = np.array([x1, x2])\n",
        "    w = np.array([0.2, 0.2])\n",
        "    b = -0.1\n",
        "    tmp = np.sum(w*x) + b\n",
        "    if tmp <= 0:\n",
        "        return 0\n",
        "    else:\n",
        "        return 1\n",
        "\n",
        "if __name__ == '__main__':\n",
        "    for xs in [(0, 0), (1, 0), (0, 1), (1, 1)]:\n",
        "        y = OR(xs[0], xs[1])\n",
        "        print(str(xs) + \" -> \" + str(y))"
      ],
      "execution_count": 11,
      "outputs": [
        {
          "output_type": "stream",
          "name": "stdout",
          "text": [
            "(0, 0) -> 0\n",
            "(1, 0) -> 1\n",
            "(0, 1) -> 1\n",
            "(1, 1) -> 1\n"
          ]
        }
      ]
    },
    {
      "cell_type": "markdown",
      "source": [
        "### and 함수"
      ],
      "metadata": {
        "id": "-ZEYdivTInGY"
      }
    },
    {
      "cell_type": "markdown",
      "source": [
        "위 OR 카피 후에 b 변경 구현"
      ],
      "metadata": {
        "id": "zX0C09A_YM4r"
      }
    },
    {
      "cell_type": "code",
      "source": [
        "def AND(x1, x2):\n",
        "    x = np.array([x1, x2])\n",
        "    w = np.array([0.2, 0.2])\n",
        "    b = -0.3\n",
        "    tmp = np.sum(w * x) + b\n",
        "    if tmp <= 0:\n",
        "        return 0\n",
        "    else:\n",
        "        return 1\n",
        "\n",
        "\n",
        "if __name__ == '__main__':\n",
        "    for xs in [(0, 0), (1, 0), (0, 1), (1, 1)]:\n",
        "        y = AND(xs[0], xs[1])\n",
        "        print(str(xs) + \" -> \" + str(y))"
      ],
      "metadata": {
        "id": "UtVnpgiPZv8q",
        "outputId": "ce242323-ab13-43ef-ca89-c0faf6a0d65b",
        "colab": {
          "base_uri": "https://localhost:8080/"
        }
      },
      "execution_count": 12,
      "outputs": [
        {
          "output_type": "stream",
          "name": "stdout",
          "text": [
            "(0, 0) -> 0\n",
            "(1, 0) -> 0\n",
            "(0, 1) -> 0\n",
            "(1, 1) -> 1\n"
          ]
        }
      ]
    },
    {
      "cell_type": "markdown",
      "source": [
        "### nor 함수"
      ],
      "metadata": {
        "id": "EcEhtbxsInGZ"
      }
    },
    {
      "cell_type": "code",
      "source": [
        "def NOR(x1, x2):\n",
        "    x = np.array([x1, x2])\n",
        "    w = np.array([0.2, 0.2])\n",
        "    b = 0\n",
        "    tmp = np.sum(w * x) + b\n",
        "    if tmp <= 0:\n",
        "        return 1\n",
        "    else:\n",
        "        return 0\n",
        "\n",
        "if __name__ == '__main__':\n",
        "    for xs in [(0, 0), (1, 0), (0, 1), (1, 1)]:\n",
        "        y = NOR(xs[0], xs[1])\n",
        "        print(str(xs) + \" -> \" + str(y))"
      ],
      "metadata": {
        "id": "EBvMBmzuZxpD",
        "outputId": "2b6abfc4-1c65-474c-fa99-d30f0faae6de",
        "colab": {
          "base_uri": "https://localhost:8080/"
        }
      },
      "execution_count": 101,
      "outputs": [
        {
          "output_type": "stream",
          "name": "stdout",
          "text": [
            "(0, 0) -> 1\n",
            "(1, 0) -> 0\n",
            "(0, 1) -> 0\n",
            "(1, 1) -> 0\n"
          ]
        }
      ]
    },
    {
      "cell_type": "markdown",
      "source": [
        "### nand 함수"
      ],
      "metadata": {
        "id": "qvybLfDvInGZ"
      }
    },
    {
      "cell_type": "code",
      "source": [
        "def NAND(x1, x2):\n",
        "    x = np.array([x1, x2])\n",
        "    w = np.array([0.2, 0.2])\n",
        "    b = -0.3\n",
        "    tmp = np.sum(w * x) + b\n",
        "    if tmp <= 0:\n",
        "        return 1\n",
        "    else:\n",
        "        return 0\n",
        "\n",
        "if __name__ == '__main__':\n",
        "    for xs in [(0, 0), (1, 0), (0, 1), (1, 1)]:\n",
        "        y = NAND(xs[0], xs[1])\n",
        "        print(str(xs) + \" -> \" + str(y))"
      ],
      "metadata": {
        "id": "oLrx09RDZyh8",
        "colab": {
          "base_uri": "https://localhost:8080/"
        },
        "outputId": "f0c8f103-700c-4550-8b1a-835b984e0335"
      },
      "execution_count": 102,
      "outputs": [
        {
          "output_type": "stream",
          "name": "stdout",
          "text": [
            "(0, 0) -> 1\n",
            "(1, 0) -> 1\n",
            "(0, 1) -> 1\n",
            "(1, 1) -> 0\n"
          ]
        }
      ]
    },
    {
      "cell_type": "markdown",
      "source": [
        "### xor 함수"
      ],
      "metadata": {
        "id": "UTqjdUxNInGZ"
      }
    },
    {
      "cell_type": "code",
      "source": [
        "def XOR(x1, x2):\n",
        "    s1 = NAND(x1, x2)\n",
        "    s2 = OR(x1, x2)\n",
        "\n",
        "    y = AND(s1, s2)\n",
        "    return y\n",
        "\n",
        "if __name__ == '__main__':\n",
        "    for xs in [(0, 0), (1, 0), (0, 1), (1, 1)]:\n",
        "        y = XOR(xs[0], xs[1])\n",
        "        print(str(xs) + \" -> \" + str(y))"
      ],
      "metadata": {
        "id": "jkRdjGBeZz4Z",
        "colab": {
          "base_uri": "https://localhost:8080/"
        },
        "outputId": "34710b3c-9689-4a1f-e8b3-ecca0896e917"
      },
      "execution_count": 15,
      "outputs": [
        {
          "output_type": "stream",
          "name": "stdout",
          "text": [
            "(0, 0) -> 0\n",
            "(1, 0) -> 0\n",
            "(0, 1) -> 0\n",
            "(1, 1) -> 0\n"
          ]
        }
      ]
    }
  ],
  "metadata": {
    "kernelspec": {
      "display_name": "Python 3 (ipykernel)",
      "language": "python",
      "name": "python3"
    },
    "language_info": {
      "codemirror_mode": {
        "name": "ipython",
        "version": 3
      },
      "file_extension": ".py",
      "mimetype": "text/x-python",
      "name": "python",
      "nbconvert_exporter": "python",
      "pygments_lexer": "ipython3",
      "version": "3.9.7"
    },
    "colab": {
      "provenance": []
    }
  },
  "nbformat": 4,
  "nbformat_minor": 0
}